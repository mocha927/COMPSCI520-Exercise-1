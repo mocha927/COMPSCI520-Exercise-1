{
 "cells": [
  {
   "cell_type": "markdown",
   "metadata": {},
   "source": [
    "# Definitions"
   ]
  },
  {
   "cell_type": "code",
   "execution_count": 1,
   "metadata": {
    "id": "P2mlKeI59G5D"
   },
   "outputs": [],
   "source": [
    "# imports\n",
    "from typing import Tuple, List"
   ]
  },
  {
   "cell_type": "code",
   "execution_count": 2,
   "metadata": {
    "id": "dObkiTDZFrHD"
   },
   "outputs": [],
   "source": [
    "# constants\n",
    "DATASET_NAMES = [\"evalplus/humanevalplus\", \"dz1/CodeScore-HumanEval-ET\"]\n",
    "MODEL_NAMES = [\"Qwen/Qwen2.5-1.5B-Instruct\", \"lmsys/vicuna-7b-v1.5\"]\n",
    "NUM_PROMPTS = 10\n",
    "SEED = 42\n",
    "INDICES = [124,  31,  59,  76,  81,   7,  89,  25, 121, 112]"
   ]
  },
  {
   "cell_type": "code",
   "execution_count": 3,
   "metadata": {
    "id": "L4oNY4_gVRnu"
   },
   "outputs": [],
   "source": [
    "# set environmental variables to suppress warnings\n",
    "import os\n",
    "\n",
    "os.environ[\"HF_ALLOW_CODE_EVAL\"] = \"1\"\n",
    "os.environ[\"TOKENIZERS_PARALLELISM\"]= \"false\""
   ]
  },
  {
   "cell_type": "code",
   "execution_count": 4,
   "metadata": {
    "id": "3Eo06nf4g9ia"
   },
   "outputs": [],
   "source": [
    "import re\n",
    "\n",
    "def extract_python_code(cot_response: str) -> list[str]:\n",
    "    \"\"\"\n",
    "    Extracts all Python code blocks from a string.\n",
    "\n",
    "    Args:\n",
    "        cot_response: The string containing the LLM response.\n",
    "\n",
    "    Returns:\n",
    "        A list of strings, where each string is a Python code block.\n",
    "    \"\"\"\n",
    "    # The `re.DOTALL` flag is crucial for matching across multiple lines.\n",
    "    pattern = r\"```python\\n(.*?)```\"\n",
    "    matches = re.findall(pattern, cot_response, re.DOTALL)\n",
    "\n",
    "    # Clean up the captured code by removing leading/trailing whitespace\n",
    "    return [code.strip() for code in matches]"
   ]
  },
  {
   "cell_type": "code",
   "execution_count": 5,
   "metadata": {
    "id": "rgToCRhslM0S"
   },
   "outputs": [],
   "source": [
    "from transformers import AutoTokenizer, AutoModelForCausalLM, BitsAndBytesConfig\n",
    "from evaluate import load\n",
    "import torch\n",
    "\n",
    "def create_cot_prompt(prompt: str) -> str:\n",
    "  cot_prompt = f\"Implement the python function given by this definition:\\n\\n{prompt}\\n\\nLet's think step by step.\\n\"\n",
    "\n",
    "  return cot_prompt\n",
    "\n",
    "class PassKEvaluator:\n",
    "  def __init__(\n",
    "    self,\n",
    "    model_name: str,\n",
    "    dtype='auto',\n",
    "    device_map='auto',\n",
    "    quantization_config=None\n",
    "  ):\n",
    "    # instance variables\n",
    "    self.model_name = model_name\n",
    "    self.metric = load(\"code_eval\")\n",
    "\n",
    "    # create model\n",
    "    self.model = AutoModelForCausalLM.from_pretrained(\n",
    "      self.model_name,\n",
    "      dtype=dtype,\n",
    "      device_map=device_map,\n",
    "      quantization_config=quantization_config\n",
    "    )\n",
    "\n",
    "    # set model to eval mode\n",
    "    self.model.eval()\n",
    "\n",
    "    # create tokenizer\n",
    "    self.tokenizer = AutoTokenizer.from_pretrained(self.model_name)\n",
    "\n",
    "  def evaluate(\n",
    "    self,\n",
    "    test_cases: List[str],\n",
    "    prompt: str,\n",
    "    k: List[int]=[1, 10, 20]\n",
    "  ):\n",
    "    # get largest (usually last) k value\n",
    "    largest_k = max(k)\n",
    "\n",
    "    # query model wth prompts and output responses\n",
    "    generated_prompts = self.generate(prompt, largest_k)\n",
    "\n",
    "    # parse python code\n",
    "    candidates = []\n",
    "\n",
    "    for p in generated_prompts:\n",
    "        extracted = extract_python_code(p)\n",
    "        if len(extracted) > 0:\n",
    "            candidates.append(extracted[0])\n",
    "        else:\n",
    "            candidates.append('')\n",
    "\n",
    "    # compute pass@k metric\n",
    "    results = self.metric.compute(\n",
    "      references=test_cases,\n",
    "      predictions=[candidates],\n",
    "      k=k\n",
    "    )\n",
    "\n",
    "    return results, candidates\n",
    "\n",
    "  def generate(self, prompt: str, num_samples: int) -> List[str]:\n",
    "    # tokenize prompt/input\n",
    "    inputs = self.tokenizer(prompt, return_tensors=\"pt\").to(self.model.device)\n",
    "\n",
    "    # Generate multiple samples using a high temperature for diversity\n",
    "    outputs = self.model.generate(\n",
    "        **inputs,\n",
    "        do_sample=True,\n",
    "        temperature=0.8,\n",
    "        num_return_sequences=num_samples,\n",
    "        max_new_tokens=300\n",
    "    ).to('cpu')\n",
    "\n",
    "    # return code examples/responses as list of strings\n",
    "    return [\n",
    "        self.tokenizer.decode(\n",
    "          out,\n",
    "          skip_special_tokens=True\n",
    "        )\n",
    "      for out in outputs\n",
    "    ]\n",
    "\n",
    "  def __del__(self):\n",
    "    del self.model\n",
    "    del self.tokenizer\n",
    "    del self.metric\n",
    "    torch.cuda.empty_cache()"
   ]
  },
  {
   "cell_type": "code",
   "execution_count": 6,
   "metadata": {},
   "outputs": [],
   "source": [
    "import multiprocessing as mp\n",
    "from tqdm import trange\n",
    "import json\n",
    "\n",
    "# evaluation process\n",
    "def run_evals(ev, ds, prefix):\n",
    "    for i in trange(len(ds)):\n",
    "        try:\n",
    "            res = {}\n",
    "    \n",
    "            sample = ds[i]\n",
    "    \n",
    "            prompt = create_cot_prompt(sample['prompt'])\n",
    "            test = sample['test']\n",
    "            results, candidates = ev.evaluate(\n",
    "                test,\n",
    "                prompt,\n",
    "                [1,5]\n",
    "            )\n",
    "    \n",
    "            print(results)\n",
    "    \n",
    "            res['prompt'] = prompt\n",
    "            res['test'] = test\n",
    "            res['results'] = results\n",
    "            res['candidates'] = candidates\n",
    "    \n",
    "            with open(f'{prefix}_{i}.json', \"w\") as f:\n",
    "                json.dump(res, f, indent=4)\n",
    "        except Exception as e:\n",
    "            print(e)\n",
    "        finally:\n",
    "            continue"
   ]
  },
  {
   "cell_type": "markdown",
   "metadata": {},
   "source": [
    "# Loading the Dataset"
   ]
  },
  {
   "cell_type": "code",
   "execution_count": 7,
   "metadata": {
    "id": "PpG4L5SvtUEx"
   },
   "outputs": [],
   "source": [
    "from datasets import load_dataset"
   ]
  },
  {
   "cell_type": "code",
   "execution_count": 8,
   "metadata": {
    "id": "30txh0wA3UiI"
   },
   "outputs": [],
   "source": [
    "# load humanevalplus dataset\n",
    "humanevalplus_ds = load_dataset(DATASET_NAMES[0])['test']"
   ]
  },
  {
   "cell_type": "markdown",
   "metadata": {},
   "source": [
    "# Finding Test Cases"
   ]
  },
  {
   "cell_type": "code",
   "execution_count": 9,
   "metadata": {},
   "outputs": [],
   "source": [
    "# create 1.5B parameter qwen model\n",
    "ev = PassKEvaluator(MODEL_NAMES[0])"
   ]
  },
  {
   "cell_type": "code",
   "execution_count": null,
   "metadata": {},
   "outputs": [
    {
     "name": "stderr",
     "output_type": "stream",
     "text": [
      "  1%|▎                                        | 1/164 [00:30<1:23:09, 30.61s/it]"
     ]
    },
    {
     "name": "stdout",
     "output_type": "stream",
     "text": [
      "list index out of range\n"
     ]
    },
    {
     "name": "stderr",
     "output_type": "stream",
     "text": [
      "  1%|▌                                        | 2/164 [01:00<1:21:44, 30.28s/it]"
     ]
    },
    {
     "name": "stdout",
     "output_type": "stream",
     "text": [
      "list index out of range\n"
     ]
    },
    {
     "name": "stderr",
     "output_type": "stream",
     "text": [
      "  2%|▊                                        | 3/164 [01:15<1:02:54, 23.44s/it]"
     ]
    }
   ],
   "source": [
    "# run qwen on dataset\n",
    "\n",
    "# file to log to\n",
    "file_prefix = \"cot_results\"\n",
    "\n",
    "run_evals(ev, humanevalplus_ds, file_prefix)"
   ]
  },
  {
   "cell_type": "code",
   "execution_count": 9,
   "metadata": {},
   "outputs": [
    {
     "data": {
      "application/vnd.jupyter.widget-view+json": {
       "model_id": "ce68dbdf173842f0bdb4f928d35bdf83",
       "version_major": 2,
       "version_minor": 0
      },
      "text/plain": [
       "Loading checkpoint shards:   0%|          | 0/2 [00:00<?, ?it/s]"
      ]
     },
     "metadata": {},
     "output_type": "display_data"
    },
    {
     "name": "stderr",
     "output_type": "stream",
     "text": [
      "The following generation flags are not valid and may be ignored: ['temperature', 'top_p']. Set `TRANSFORMERS_VERBOSITY=info` for more details.\n"
     ]
    }
   ],
   "source": [
    "# create vicuna model to evluate and use quantization so can run on 8gb VRAM hardware\n",
    "quantization_config = BitsAndBytesConfig(\n",
    "    load_in_4bit=True,\n",
    "    bnb_4bit_compute_dtype=torch.float16  # Recommended for speed\n",
    ")\n",
    "\n",
    "ev = PassKEvaluator(MODEL_NAMES[1], quantization_config=quantization_config)"
   ]
  },
  {
   "cell_type": "code",
   "execution_count": null,
   "metadata": {},
   "outputs": [
    {
     "name": "stderr",
     "output_type": "stream",
     "text": [
      "  1%|▎                                        | 1/164 [00:29<1:21:23, 29.96s/it]"
     ]
    },
    {
     "name": "stdout",
     "output_type": "stream",
     "text": [
      "list index out of range\n"
     ]
    },
    {
     "name": "stderr",
     "output_type": "stream",
     "text": [
      "  1%|▌                                        | 2/164 [00:59<1:19:37, 29.49s/it]"
     ]
    },
    {
     "name": "stdout",
     "output_type": "stream",
     "text": [
      "list index out of range\n"
     ]
    },
    {
     "name": "stderr",
     "output_type": "stream",
     "text": [
      "  2%|▊                                        | 3/164 [01:27<1:18:22, 29.21s/it]"
     ]
    },
    {
     "name": "stdout",
     "output_type": "stream",
     "text": [
      "list index out of range\n"
     ]
    },
    {
     "name": "stderr",
     "output_type": "stream",
     "text": [
      "  2%|█                                        | 4/164 [01:58<1:18:54, 29.59s/it]"
     ]
    },
    {
     "name": "stdout",
     "output_type": "stream",
     "text": [
      "{'pass@1': np.float64(1.0), 'pass@5': np.float64(1.0)}\n"
     ]
    },
    {
     "name": "stderr",
     "output_type": "stream",
     "text": [
      "  3%|█▎                                       | 5/164 [02:27<1:18:15, 29.53s/it]"
     ]
    },
    {
     "name": "stdout",
     "output_type": "stream",
     "text": [
      "list index out of range\n"
     ]
    },
    {
     "name": "stderr",
     "output_type": "stream",
     "text": [
      "  4%|█▌                                       | 6/164 [02:56<1:17:19, 29.37s/it]"
     ]
    },
    {
     "name": "stdout",
     "output_type": "stream",
     "text": [
      "list index out of range\n"
     ]
    },
    {
     "name": "stderr",
     "output_type": "stream",
     "text": [
      "  4%|█▊                                       | 7/164 [03:25<1:16:42, 29.31s/it]"
     ]
    },
    {
     "name": "stdout",
     "output_type": "stream",
     "text": [
      "list index out of range\n"
     ]
    },
    {
     "name": "stderr",
     "output_type": "stream",
     "text": [
      "  5%|██                                       | 8/164 [03:55<1:16:19, 29.36s/it]"
     ]
    },
    {
     "name": "stdout",
     "output_type": "stream",
     "text": [
      "{'pass@1': np.float64(0.8), 'pass@5': np.float64(1.0)}\n"
     ]
    },
    {
     "name": "stderr",
     "output_type": "stream",
     "text": [
      "  5%|██▎                                      | 9/164 [04:24<1:16:05, 29.46s/it]"
     ]
    },
    {
     "name": "stdout",
     "output_type": "stream",
     "text": [
      "{'pass@1': np.float64(0.8), 'pass@5': np.float64(1.0)}\n"
     ]
    },
    {
     "name": "stderr",
     "output_type": "stream",
     "text": [
      "  6%|██▍                                     | 10/164 [04:54<1:15:44, 29.51s/it]"
     ]
    },
    {
     "name": "stdout",
     "output_type": "stream",
     "text": [
      "{'pass@1': np.float64(0.8), 'pass@5': np.float64(1.0)}\n"
     ]
    },
    {
     "name": "stderr",
     "output_type": "stream",
     "text": [
      "  7%|██▋                                     | 11/164 [05:24<1:15:23, 29.56s/it]"
     ]
    },
    {
     "name": "stdout",
     "output_type": "stream",
     "text": [
      "list index out of range\n"
     ]
    },
    {
     "name": "stderr",
     "output_type": "stream",
     "text": [
      "  7%|██▉                                     | 12/164 [05:53<1:14:44, 29.50s/it]"
     ]
    },
    {
     "name": "stdout",
     "output_type": "stream",
     "text": [
      "{'pass@1': np.float64(1.0), 'pass@5': np.float64(1.0)}\n"
     ]
    },
    {
     "name": "stderr",
     "output_type": "stream",
     "text": [
      "  8%|███▏                                    | 13/164 [06:23<1:14:19, 29.53s/it]"
     ]
    },
    {
     "name": "stdout",
     "output_type": "stream",
     "text": [
      "{'pass@1': np.float64(1.0), 'pass@5': np.float64(1.0)}\n"
     ]
    },
    {
     "name": "stderr",
     "output_type": "stream",
     "text": [
      "  9%|███▍                                    | 14/164 [06:52<1:13:19, 29.33s/it]"
     ]
    },
    {
     "name": "stdout",
     "output_type": "stream",
     "text": [
      "list index out of range\n"
     ]
    },
    {
     "name": "stderr",
     "output_type": "stream",
     "text": [
      "  9%|███▋                                    | 15/164 [07:20<1:12:22, 29.14s/it]"
     ]
    },
    {
     "name": "stdout",
     "output_type": "stream",
     "text": [
      "list index out of range\n"
     ]
    },
    {
     "name": "stderr",
     "output_type": "stream",
     "text": [
      " 10%|███▉                                    | 16/164 [07:50<1:12:01, 29.20s/it]"
     ]
    },
    {
     "name": "stdout",
     "output_type": "stream",
     "text": [
      "{'pass@1': np.float64(1.0), 'pass@5': np.float64(1.0)}\n"
     ]
    },
    {
     "name": "stderr",
     "output_type": "stream",
     "text": [
      " 10%|████▏                                   | 17/164 [08:16<1:09:04, 28.19s/it]"
     ]
    },
    {
     "name": "stdout",
     "output_type": "stream",
     "text": [
      "list index out of range\n"
     ]
    },
    {
     "name": "stderr",
     "output_type": "stream",
     "text": [
      " 11%|████▍                                   | 18/164 [08:46<1:10:06, 28.82s/it]"
     ]
    },
    {
     "name": "stdout",
     "output_type": "stream",
     "text": [
      "{'pass@1': np.float64(0.6), 'pass@5': np.float64(1.0)}\n"
     ]
    },
    {
     "name": "stderr",
     "output_type": "stream",
     "text": [
      " 12%|████▋                                   | 19/164 [09:15<1:10:04, 29.00s/it]"
     ]
    },
    {
     "name": "stdout",
     "output_type": "stream",
     "text": [
      "{'pass@1': np.float64(1.0), 'pass@5': np.float64(1.0)}\n"
     ]
    },
    {
     "name": "stderr",
     "output_type": "stream",
     "text": [
      " 12%|████▉                                   | 20/164 [09:44<1:09:48, 29.08s/it]"
     ]
    },
    {
     "name": "stdout",
     "output_type": "stream",
     "text": [
      "list index out of range\n"
     ]
    },
    {
     "name": "stderr",
     "output_type": "stream",
     "text": [
      " 13%|█████                                   | 21/164 [10:14<1:09:46, 29.27s/it]"
     ]
    },
    {
     "name": "stdout",
     "output_type": "stream",
     "text": [
      "list index out of range\n"
     ]
    },
    {
     "name": "stderr",
     "output_type": "stream",
     "text": [
      " 13%|█████▎                                  | 22/164 [10:44<1:09:20, 29.30s/it]"
     ]
    },
    {
     "name": "stdout",
     "output_type": "stream",
     "text": [
      "list index out of range\n"
     ]
    },
    {
     "name": "stderr",
     "output_type": "stream",
     "text": [
      " 14%|█████▌                                  | 23/164 [11:12<1:08:22, 29.10s/it]"
     ]
    },
    {
     "name": "stdout",
     "output_type": "stream",
     "text": [
      "list index out of range\n"
     ]
    },
    {
     "name": "stderr",
     "output_type": "stream",
     "text": [
      " 15%|█████▊                                  | 24/164 [11:41<1:07:30, 28.93s/it]"
     ]
    },
    {
     "name": "stdout",
     "output_type": "stream",
     "text": [
      "list index out of range\n"
     ]
    },
    {
     "name": "stderr",
     "output_type": "stream",
     "text": [
      " 15%|██████                                  | 25/164 [12:09<1:06:50, 28.85s/it]"
     ]
    },
    {
     "name": "stdout",
     "output_type": "stream",
     "text": [
      "list index out of range\n"
     ]
    },
    {
     "name": "stderr",
     "output_type": "stream",
     "text": [
      " 16%|██████▎                                 | 26/164 [12:39<1:06:43, 29.01s/it]"
     ]
    },
    {
     "name": "stdout",
     "output_type": "stream",
     "text": [
      "list index out of range\n"
     ]
    },
    {
     "name": "stderr",
     "output_type": "stream",
     "text": [
      " 16%|██████▌                                 | 27/164 [13:08<1:06:33, 29.15s/it]"
     ]
    },
    {
     "name": "stdout",
     "output_type": "stream",
     "text": [
      "{'pass@1': np.float64(1.0), 'pass@5': np.float64(1.0)}\n"
     ]
    },
    {
     "name": "stderr",
     "output_type": "stream",
     "text": [
      " 17%|██████▊                                 | 28/164 [13:37<1:05:45, 29.01s/it]"
     ]
    },
    {
     "name": "stdout",
     "output_type": "stream",
     "text": [
      "list index out of range\n"
     ]
    },
    {
     "name": "stderr",
     "output_type": "stream",
     "text": [
      " 18%|███████                                 | 29/164 [14:06<1:05:19, 29.04s/it]"
     ]
    },
    {
     "name": "stdout",
     "output_type": "stream",
     "text": [
      "{'pass@1': np.float64(1.0), 'pass@5': np.float64(1.0)}\n"
     ]
    },
    {
     "name": "stderr",
     "output_type": "stream",
     "text": [
      " 18%|███████▎                                | 30/164 [14:32<1:02:49, 28.13s/it]"
     ]
    },
    {
     "name": "stdout",
     "output_type": "stream",
     "text": [
      "{'pass@1': np.float64(1.0), 'pass@5': np.float64(1.0)}\n"
     ]
    },
    {
     "name": "stderr",
     "output_type": "stream",
     "text": [
      " 19%|███████▌                                | 31/164 [15:02<1:03:26, 28.62s/it]"
     ]
    },
    {
     "name": "stdout",
     "output_type": "stream",
     "text": [
      "{'pass@1': np.float64(1.0), 'pass@5': np.float64(1.0)}\n"
     ]
    },
    {
     "name": "stderr",
     "output_type": "stream",
     "text": [
      " 20%|███████▊                                | 32/164 [15:31<1:03:22, 28.81s/it]"
     ]
    },
    {
     "name": "stdout",
     "output_type": "stream",
     "text": [
      "list index out of range\n"
     ]
    },
    {
     "name": "stderr",
     "output_type": "stream",
     "text": [
      " 20%|████████                                | 33/164 [16:02<1:04:07, 29.37s/it]"
     ]
    },
    {
     "name": "stdout",
     "output_type": "stream",
     "text": [
      "list index out of range\n"
     ]
    },
    {
     "name": "stderr",
     "output_type": "stream",
     "text": [
      " 21%|████████▎                               | 34/164 [16:31<1:03:43, 29.41s/it]"
     ]
    },
    {
     "name": "stdout",
     "output_type": "stream",
     "text": [
      "list index out of range\n"
     ]
    },
    {
     "name": "stderr",
     "output_type": "stream",
     "text": [
      " 21%|████████▌                               | 35/164 [17:00<1:02:48, 29.21s/it]"
     ]
    },
    {
     "name": "stdout",
     "output_type": "stream",
     "text": [
      "list index out of range\n"
     ]
    },
    {
     "name": "stderr",
     "output_type": "stream",
     "text": [
      " 22%|████████▊                               | 36/164 [17:27<1:00:41, 28.45s/it]"
     ]
    },
    {
     "name": "stdout",
     "output_type": "stream",
     "text": [
      "{'pass@1': np.float64(1.0), 'pass@5': np.float64(1.0)}\n"
     ]
    },
    {
     "name": "stderr",
     "output_type": "stream",
     "text": [
      " 23%|█████████                               | 37/164 [17:56<1:00:34, 28.62s/it]"
     ]
    },
    {
     "name": "stdout",
     "output_type": "stream",
     "text": [
      "list index out of range\n"
     ]
    },
    {
     "name": "stderr",
     "output_type": "stream",
     "text": [
      " 23%|█████████▎                              | 38/164 [18:25<1:00:38, 28.87s/it]"
     ]
    },
    {
     "name": "stdout",
     "output_type": "stream",
     "text": [
      "list index out of range\n"
     ]
    },
    {
     "name": "stderr",
     "output_type": "stream",
     "text": [
      " 24%|█████████▌                              | 39/164 [18:56<1:01:15, 29.40s/it]"
     ]
    },
    {
     "name": "stdout",
     "output_type": "stream",
     "text": [
      "list index out of range\n"
     ]
    },
    {
     "name": "stderr",
     "output_type": "stream",
     "text": [
      " 24%|█████████▊                              | 40/164 [19:26<1:01:07, 29.58s/it]"
     ]
    },
    {
     "name": "stdout",
     "output_type": "stream",
     "text": [
      "list index out of range\n"
     ]
    },
    {
     "name": "stderr",
     "output_type": "stream",
     "text": [
      " 25%|██████████                              | 41/164 [19:56<1:01:15, 29.88s/it]"
     ]
    },
    {
     "name": "stdout",
     "output_type": "stream",
     "text": [
      "list index out of range\n"
     ]
    },
    {
     "name": "stderr",
     "output_type": "stream",
     "text": [
      " 26%|██████████▏                             | 42/164 [20:27<1:01:12, 30.10s/it]"
     ]
    },
    {
     "name": "stdout",
     "output_type": "stream",
     "text": [
      "list index out of range\n"
     ]
    },
    {
     "name": "stderr",
     "output_type": "stream",
     "text": [
      " 26%|███████████                               | 43/164 [20:54<59:01, 29.27s/it]"
     ]
    },
    {
     "name": "stdout",
     "output_type": "stream",
     "text": [
      "{'pass@1': np.float64(1.0), 'pass@5': np.float64(1.0)}\n"
     ]
    },
    {
     "name": "stderr",
     "output_type": "stream",
     "text": [
      " 27%|███████████▎                              | 44/164 [21:24<58:55, 29.46s/it]"
     ]
    },
    {
     "name": "stdout",
     "output_type": "stream",
     "text": [
      "list index out of range\n"
     ]
    },
    {
     "name": "stderr",
     "output_type": "stream",
     "text": [
      " 27%|███████████▌                              | 45/164 [21:53<58:15, 29.37s/it]"
     ]
    },
    {
     "name": "stdout",
     "output_type": "stream",
     "text": [
      "list index out of range\n"
     ]
    },
    {
     "name": "stderr",
     "output_type": "stream",
     "text": [
      " 28%|███████████▊                              | 46/164 [22:22<57:17, 29.13s/it]"
     ]
    },
    {
     "name": "stdout",
     "output_type": "stream",
     "text": [
      "list index out of range\n"
     ]
    },
    {
     "name": "stderr",
     "output_type": "stream",
     "text": [
      " 29%|████████████                              | 47/164 [22:52<57:12, 29.33s/it]"
     ]
    },
    {
     "name": "stdout",
     "output_type": "stream",
     "text": [
      "list index out of range\n"
     ]
    },
    {
     "name": "stderr",
     "output_type": "stream",
     "text": [
      " 29%|████████████▎                             | 48/164 [23:21<56:28, 29.21s/it]"
     ]
    },
    {
     "name": "stdout",
     "output_type": "stream",
     "text": [
      "list index out of range\n"
     ]
    },
    {
     "name": "stderr",
     "output_type": "stream",
     "text": [
      " 30%|████████████▌                             | 49/164 [23:50<55:51, 29.14s/it]"
     ]
    },
    {
     "name": "stdout",
     "output_type": "stream",
     "text": [
      "list index out of range\n"
     ]
    },
    {
     "name": "stderr",
     "output_type": "stream",
     "text": [
      " 30%|████████████▊                             | 50/164 [24:19<55:25, 29.17s/it]"
     ]
    },
    {
     "name": "stdout",
     "output_type": "stream",
     "text": [
      "list index out of range\n"
     ]
    },
    {
     "name": "stderr",
     "output_type": "stream",
     "text": [
      " 31%|█████████████                             | 51/164 [24:48<54:55, 29.16s/it]"
     ]
    },
    {
     "name": "stdout",
     "output_type": "stream",
     "text": [
      "list index out of range\n"
     ]
    },
    {
     "name": "stderr",
     "output_type": "stream",
     "text": [
      " 32%|█████████████▎                            | 52/164 [25:18<54:52, 29.40s/it]"
     ]
    },
    {
     "name": "stdout",
     "output_type": "stream",
     "text": [
      "{'pass@1': np.float64(1.0), 'pass@5': np.float64(1.0)}\n"
     ]
    },
    {
     "name": "stderr",
     "output_type": "stream",
     "text": [
      " 32%|█████████████▌                            | 53/164 [25:48<54:29, 29.45s/it]"
     ]
    },
    {
     "name": "stdout",
     "output_type": "stream",
     "text": [
      "{'pass@1': np.float64(1.0), 'pass@5': np.float64(1.0)}\n"
     ]
    },
    {
     "name": "stderr",
     "output_type": "stream",
     "text": [
      " 33%|█████████████▊                            | 54/164 [26:16<53:36, 29.24s/it]"
     ]
    },
    {
     "name": "stdout",
     "output_type": "stream",
     "text": [
      "list index out of range\n"
     ]
    },
    {
     "name": "stderr",
     "output_type": "stream",
     "text": [
      " 34%|██████████████                            | 55/164 [26:46<53:23, 29.39s/it]"
     ]
    },
    {
     "name": "stdout",
     "output_type": "stream",
     "text": [
      "list index out of range\n"
     ]
    },
    {
     "name": "stderr",
     "output_type": "stream",
     "text": [
      " 34%|██████████████▎                           | 56/164 [27:15<52:31, 29.18s/it]"
     ]
    },
    {
     "name": "stdout",
     "output_type": "stream",
     "text": [
      "list index out of range\n"
     ]
    },
    {
     "name": "stderr",
     "output_type": "stream",
     "text": [
      " 35%|██████████████▌                           | 57/164 [27:44<52:01, 29.17s/it]"
     ]
    },
    {
     "name": "stdout",
     "output_type": "stream",
     "text": [
      "list index out of range\n"
     ]
    },
    {
     "name": "stderr",
     "output_type": "stream",
     "text": [
      " 35%|██████████████▊                           | 58/164 [28:13<51:27, 29.13s/it]"
     ]
    },
    {
     "name": "stdout",
     "output_type": "stream",
     "text": [
      "list index out of range\n"
     ]
    },
    {
     "name": "stderr",
     "output_type": "stream",
     "text": [
      " 36%|███████████████                           | 59/164 [28:42<51:03, 29.18s/it]"
     ]
    },
    {
     "name": "stdout",
     "output_type": "stream",
     "text": [
      "list index out of range\n"
     ]
    },
    {
     "name": "stderr",
     "output_type": "stream",
     "text": [
      " 37%|███████████████▎                          | 60/164 [29:11<50:22, 29.07s/it]"
     ]
    },
    {
     "name": "stdout",
     "output_type": "stream",
     "text": [
      "list index out of range\n"
     ]
    },
    {
     "name": "stderr",
     "output_type": "stream",
     "text": [
      " 37%|███████████████▌                          | 61/164 [29:41<50:12, 29.25s/it]"
     ]
    },
    {
     "name": "stdout",
     "output_type": "stream",
     "text": [
      "{'pass@1': np.float64(1.0), 'pass@5': np.float64(1.0)}\n"
     ]
    },
    {
     "name": "stderr",
     "output_type": "stream",
     "text": [
      " 38%|███████████████▉                          | 62/164 [30:10<49:43, 29.25s/it]"
     ]
    },
    {
     "name": "stdout",
     "output_type": "stream",
     "text": [
      "list index out of range\n"
     ]
    },
    {
     "name": "stderr",
     "output_type": "stream",
     "text": [
      " 38%|████████████████▏                         | 63/164 [30:39<49:12, 29.23s/it]"
     ]
    },
    {
     "name": "stdout",
     "output_type": "stream",
     "text": [
      "list index out of range\n"
     ]
    },
    {
     "name": "stderr",
     "output_type": "stream",
     "text": [
      " 39%|████████████████▍                         | 64/164 [31:09<48:57, 29.37s/it]"
     ]
    },
    {
     "name": "stdout",
     "output_type": "stream",
     "text": [
      "list index out of range\n"
     ]
    },
    {
     "name": "stderr",
     "output_type": "stream",
     "text": [
      " 40%|████████████████▋                         | 65/164 [31:38<48:31, 29.41s/it]"
     ]
    },
    {
     "name": "stdout",
     "output_type": "stream",
     "text": [
      "list index out of range\n"
     ]
    },
    {
     "name": "stderr",
     "output_type": "stream",
     "text": [
      " 40%|████████████████▉                         | 66/164 [32:07<47:50, 29.29s/it]"
     ]
    },
    {
     "name": "stdout",
     "output_type": "stream",
     "text": [
      "list index out of range\n"
     ]
    },
    {
     "name": "stderr",
     "output_type": "stream",
     "text": [
      " 41%|█████████████████▏                        | 67/164 [32:37<47:23, 29.31s/it]"
     ]
    },
    {
     "name": "stdout",
     "output_type": "stream",
     "text": [
      "list index out of range\n"
     ]
    },
    {
     "name": "stderr",
     "output_type": "stream",
     "text": [
      " 41%|█████████████████▍                        | 68/164 [33:07<47:28, 29.67s/it]"
     ]
    },
    {
     "name": "stdout",
     "output_type": "stream",
     "text": [
      "list index out of range\n"
     ]
    },
    {
     "name": "stderr",
     "output_type": "stream",
     "text": [
      " 42%|█████████████████▋                        | 69/164 [33:39<47:49, 30.21s/it]"
     ]
    },
    {
     "name": "stdout",
     "output_type": "stream",
     "text": [
      "list index out of range\n"
     ]
    },
    {
     "name": "stderr",
     "output_type": "stream",
     "text": [
      " 43%|█████████████████▉                        | 70/164 [34:08<47:07, 30.08s/it]"
     ]
    },
    {
     "name": "stdout",
     "output_type": "stream",
     "text": [
      "list index out of range\n"
     ]
    },
    {
     "name": "stderr",
     "output_type": "stream",
     "text": [
      " 43%|██████████████████▏                       | 71/164 [34:38<46:22, 29.92s/it]"
     ]
    },
    {
     "name": "stdout",
     "output_type": "stream",
     "text": [
      "list index out of range\n"
     ]
    },
    {
     "name": "stderr",
     "output_type": "stream",
     "text": [
      " 44%|██████████████████▍                       | 72/164 [35:07<45:37, 29.76s/it]"
     ]
    },
    {
     "name": "stdout",
     "output_type": "stream",
     "text": [
      "list index out of range\n"
     ]
    },
    {
     "name": "stderr",
     "output_type": "stream",
     "text": [
      " 45%|██████████████████▋                       | 73/164 [35:38<45:31, 30.02s/it]"
     ]
    },
    {
     "name": "stdout",
     "output_type": "stream",
     "text": [
      "list index out of range\n"
     ]
    },
    {
     "name": "stderr",
     "output_type": "stream",
     "text": [
      " 45%|██████████████████▉                       | 74/164 [36:08<44:54, 29.93s/it]"
     ]
    },
    {
     "name": "stdout",
     "output_type": "stream",
     "text": [
      "list index out of range\n"
     ]
    },
    {
     "name": "stderr",
     "output_type": "stream",
     "text": [
      " 46%|███████████████████▏                      | 75/164 [36:38<44:32, 30.02s/it]"
     ]
    },
    {
     "name": "stdout",
     "output_type": "stream",
     "text": [
      "list index out of range\n"
     ]
    },
    {
     "name": "stderr",
     "output_type": "stream",
     "text": [
      " 46%|███████████████████▍                      | 76/164 [37:07<43:36, 29.73s/it]"
     ]
    },
    {
     "name": "stdout",
     "output_type": "stream",
     "text": [
      "list index out of range\n"
     ]
    },
    {
     "name": "stderr",
     "output_type": "stream",
     "text": [
      " 47%|███████████████████▋                      | 77/164 [37:37<43:05, 29.72s/it]"
     ]
    },
    {
     "name": "stdout",
     "output_type": "stream",
     "text": [
      "list index out of range\n"
     ]
    },
    {
     "name": "stderr",
     "output_type": "stream",
     "text": [
      " 48%|███████████████████▉                      | 78/164 [38:06<42:26, 29.62s/it]"
     ]
    },
    {
     "name": "stdout",
     "output_type": "stream",
     "text": [
      "list index out of range\n"
     ]
    },
    {
     "name": "stderr",
     "output_type": "stream",
     "text": [
      " 48%|████████████████████▏                     | 79/164 [38:37<42:43, 30.15s/it]"
     ]
    },
    {
     "name": "stdout",
     "output_type": "stream",
     "text": [
      "list index out of range\n"
     ]
    },
    {
     "name": "stderr",
     "output_type": "stream",
     "text": [
      " 49%|████████████████████▍                     | 80/164 [39:07<42:01, 30.02s/it]"
     ]
    },
    {
     "name": "stdout",
     "output_type": "stream",
     "text": [
      "list index out of range\n"
     ]
    },
    {
     "name": "stderr",
     "output_type": "stream",
     "text": [
      " 49%|████████████████████▋                     | 81/164 [39:37<41:29, 30.00s/it]"
     ]
    },
    {
     "name": "stdout",
     "output_type": "stream",
     "text": [
      "{'pass@1': np.float64(1.0), 'pass@5': np.float64(1.0)}\n"
     ]
    },
    {
     "name": "stderr",
     "output_type": "stream",
     "text": [
      " 50%|█████████████████████                     | 82/164 [40:08<41:25, 30.31s/it]"
     ]
    },
    {
     "name": "stdout",
     "output_type": "stream",
     "text": [
      "list index out of range\n"
     ]
    },
    {
     "name": "stderr",
     "output_type": "stream",
     "text": [
      " 51%|█████████████████████▎                    | 83/164 [40:37<40:24, 29.93s/it]"
     ]
    },
    {
     "name": "stdout",
     "output_type": "stream",
     "text": [
      "list index out of range\n"
     ]
    },
    {
     "name": "stderr",
     "output_type": "stream",
     "text": [
      " 51%|█████████████████████▌                    | 84/164 [41:06<39:23, 29.55s/it]"
     ]
    },
    {
     "name": "stdout",
     "output_type": "stream",
     "text": [
      "list index out of range\n"
     ]
    },
    {
     "name": "stderr",
     "output_type": "stream",
     "text": [
      " 52%|█████████████████████▊                    | 85/164 [41:36<39:09, 29.74s/it]"
     ]
    },
    {
     "name": "stdout",
     "output_type": "stream",
     "text": [
      "{'pass@1': np.float64(1.0), 'pass@5': np.float64(1.0)}\n"
     ]
    },
    {
     "name": "stderr",
     "output_type": "stream",
     "text": [
      " 52%|██████████████████████                    | 86/164 [42:05<38:18, 29.46s/it]"
     ]
    },
    {
     "name": "stdout",
     "output_type": "stream",
     "text": [
      "list index out of range\n"
     ]
    },
    {
     "name": "stderr",
     "output_type": "stream",
     "text": [
      " 53%|██████████████████████▎                   | 87/164 [42:34<37:49, 29.47s/it]"
     ]
    },
    {
     "name": "stdout",
     "output_type": "stream",
     "text": [
      "list index out of range\n"
     ]
    },
    {
     "name": "stderr",
     "output_type": "stream",
     "text": [
      " 54%|██████████████████████▌                   | 88/164 [43:05<37:48, 29.84s/it]"
     ]
    },
    {
     "name": "stdout",
     "output_type": "stream",
     "text": [
      "list index out of range\n"
     ]
    },
    {
     "name": "stderr",
     "output_type": "stream",
     "text": [
      " 54%|██████████████████████▊                   | 89/164 [43:35<37:25, 29.94s/it]"
     ]
    },
    {
     "name": "stdout",
     "output_type": "stream",
     "text": [
      "list index out of range\n"
     ]
    },
    {
     "name": "stderr",
     "output_type": "stream",
     "text": [
      " 55%|███████████████████████                   | 90/164 [44:05<36:40, 29.73s/it]"
     ]
    },
    {
     "name": "stdout",
     "output_type": "stream",
     "text": [
      "list index out of range\n"
     ]
    },
    {
     "name": "stderr",
     "output_type": "stream",
     "text": [
      " 55%|███████████████████████▎                  | 91/164 [44:34<36:02, 29.62s/it]"
     ]
    },
    {
     "name": "stdout",
     "output_type": "stream",
     "text": [
      "list index out of range\n"
     ]
    },
    {
     "name": "stderr",
     "output_type": "stream",
     "text": [
      " 56%|███████████████████████▌                  | 92/164 [45:03<35:24, 29.51s/it]"
     ]
    },
    {
     "name": "stdout",
     "output_type": "stream",
     "text": [
      "list index out of range\n"
     ]
    },
    {
     "name": "stderr",
     "output_type": "stream",
     "text": [
      " 57%|███████████████████████▊                  | 93/164 [45:33<34:56, 29.53s/it]"
     ]
    },
    {
     "name": "stdout",
     "output_type": "stream",
     "text": [
      "list index out of range\n"
     ]
    },
    {
     "name": "stderr",
     "output_type": "stream",
     "text": [
      " 57%|████████████████████████                  | 94/164 [46:02<34:23, 29.47s/it]"
     ]
    },
    {
     "name": "stdout",
     "output_type": "stream",
     "text": [
      "list index out of range\n"
     ]
    },
    {
     "name": "stderr",
     "output_type": "stream",
     "text": [
      " 58%|████████████████████████▎                 | 95/164 [46:33<34:27, 29.96s/it]"
     ]
    },
    {
     "name": "stdout",
     "output_type": "stream",
     "text": [
      "list index out of range\n"
     ]
    },
    {
     "name": "stderr",
     "output_type": "stream",
     "text": [
      " 59%|████████████████████████▌                 | 96/164 [47:00<32:51, 29.00s/it]"
     ]
    },
    {
     "name": "stdout",
     "output_type": "stream",
     "text": [
      "{'pass@1': np.float64(1.0), 'pass@5': np.float64(1.0)}\n"
     ]
    },
    {
     "name": "stderr",
     "output_type": "stream",
     "text": [
      " 59%|████████████████████████▊                 | 97/164 [47:30<32:38, 29.24s/it]"
     ]
    },
    {
     "name": "stdout",
     "output_type": "stream",
     "text": [
      "list index out of range\n"
     ]
    },
    {
     "name": "stderr",
     "output_type": "stream",
     "text": [
      " 60%|█████████████████████████                 | 98/164 [47:59<32:09, 29.24s/it]"
     ]
    },
    {
     "name": "stdout",
     "output_type": "stream",
     "text": [
      "list index out of range\n"
     ]
    },
    {
     "name": "stderr",
     "output_type": "stream",
     "text": [
      " 60%|█████████████████████████▎                | 99/164 [48:28<31:34, 29.14s/it]"
     ]
    },
    {
     "name": "stdout",
     "output_type": "stream",
     "text": [
      "list index out of range\n"
     ]
    },
    {
     "name": "stderr",
     "output_type": "stream",
     "text": [
      " 61%|█████████████████████████                | 100/164 [48:58<31:15, 29.30s/it]"
     ]
    },
    {
     "name": "stdout",
     "output_type": "stream",
     "text": [
      "list index out of range\n"
     ]
    },
    {
     "name": "stderr",
     "output_type": "stream",
     "text": [
      " 62%|█████████████████████████▎               | 101/164 [49:27<30:57, 29.48s/it]"
     ]
    },
    {
     "name": "stdout",
     "output_type": "stream",
     "text": [
      "{'pass@1': np.float64(1.0), 'pass@5': np.float64(1.0)}\n"
     ]
    },
    {
     "name": "stderr",
     "output_type": "stream",
     "text": [
      " 62%|█████████████████████████▌               | 102/164 [49:57<30:25, 29.44s/it]"
     ]
    },
    {
     "name": "stdout",
     "output_type": "stream",
     "text": [
      "list index out of range\n"
     ]
    },
    {
     "name": "stderr",
     "output_type": "stream",
     "text": [
      " 63%|█████████████████████████▊               | 103/164 [50:26<29:57, 29.47s/it]"
     ]
    },
    {
     "name": "stdout",
     "output_type": "stream",
     "text": [
      "{'pass@1': np.float64(1.0), 'pass@5': np.float64(1.0)}\n"
     ]
    },
    {
     "name": "stderr",
     "output_type": "stream",
     "text": [
      " 63%|██████████████████████████               | 104/164 [50:56<29:32, 29.55s/it]"
     ]
    },
    {
     "name": "stdout",
     "output_type": "stream",
     "text": [
      "list index out of range\n"
     ]
    },
    {
     "name": "stderr",
     "output_type": "stream",
     "text": [
      " 64%|██████████████████████████▎              | 105/164 [51:26<29:07, 29.63s/it]"
     ]
    },
    {
     "name": "stdout",
     "output_type": "stream",
     "text": [
      "{'pass@1': np.float64(1.0), 'pass@5': np.float64(1.0)}\n"
     ]
    },
    {
     "name": "stderr",
     "output_type": "stream",
     "text": [
      " 65%|██████████████████████████▌              | 106/164 [51:57<29:02, 30.04s/it]"
     ]
    },
    {
     "name": "stdout",
     "output_type": "stream",
     "text": [
      "list index out of range\n"
     ]
    },
    {
     "name": "stderr",
     "output_type": "stream",
     "text": [
      " 65%|██████████████████████████▊              | 107/164 [52:26<28:20, 29.83s/it]"
     ]
    },
    {
     "name": "stdout",
     "output_type": "stream",
     "text": [
      "list index out of range\n"
     ]
    },
    {
     "name": "stderr",
     "output_type": "stream",
     "text": [
      " 66%|███████████████████████████              | 108/164 [52:56<27:58, 29.97s/it]"
     ]
    },
    {
     "name": "stdout",
     "output_type": "stream",
     "text": [
      "list index out of range\n"
     ]
    },
    {
     "name": "stderr",
     "output_type": "stream",
     "text": [
      " 66%|███████████████████████████▎             | 109/164 [53:26<27:18, 29.80s/it]"
     ]
    },
    {
     "name": "stdout",
     "output_type": "stream",
     "text": [
      "list index out of range\n"
     ]
    },
    {
     "name": "stderr",
     "output_type": "stream",
     "text": [
      " 67%|███████████████████████████▌             | 110/164 [53:57<27:11, 30.21s/it]"
     ]
    },
    {
     "name": "stdout",
     "output_type": "stream",
     "text": [
      "list index out of range\n"
     ]
    },
    {
     "name": "stderr",
     "output_type": "stream",
     "text": [
      " 68%|███████████████████████████▊             | 111/164 [54:27<26:38, 30.15s/it]"
     ]
    },
    {
     "name": "stdout",
     "output_type": "stream",
     "text": [
      "list index out of range\n"
     ]
    },
    {
     "name": "stderr",
     "output_type": "stream",
     "text": [
      " 68%|████████████████████████████             | 112/164 [54:57<25:59, 30.00s/it]"
     ]
    },
    {
     "name": "stdout",
     "output_type": "stream",
     "text": [
      "list index out of range\n"
     ]
    },
    {
     "name": "stderr",
     "output_type": "stream",
     "text": [
      " 69%|████████████████████████████▏            | 113/164 [55:26<25:25, 29.91s/it]"
     ]
    },
    {
     "name": "stdout",
     "output_type": "stream",
     "text": [
      "list index out of range\n"
     ]
    },
    {
     "name": "stderr",
     "output_type": "stream",
     "text": [
      " 70%|████████████████████████████▍            | 114/164 [55:56<24:55, 29.90s/it]"
     ]
    },
    {
     "name": "stdout",
     "output_type": "stream",
     "text": [
      "list index out of range\n"
     ]
    },
    {
     "name": "stderr",
     "output_type": "stream",
     "text": [
      " 70%|████████████████████████████▊            | 115/164 [56:26<24:18, 29.77s/it]"
     ]
    },
    {
     "name": "stdout",
     "output_type": "stream",
     "text": [
      "{'pass@1': np.float64(1.0), 'pass@5': np.float64(1.0)}\n"
     ]
    },
    {
     "name": "stderr",
     "output_type": "stream",
     "text": [
      " 71%|█████████████████████████████            | 116/164 [56:57<24:13, 30.29s/it]"
     ]
    },
    {
     "name": "stdout",
     "output_type": "stream",
     "text": [
      "list index out of range\n"
     ]
    },
    {
     "name": "stderr",
     "output_type": "stream",
     "text": [
      " 71%|█████████████████████████████▎           | 117/164 [57:27<23:36, 30.14s/it]"
     ]
    },
    {
     "name": "stdout",
     "output_type": "stream",
     "text": [
      "list index out of range\n"
     ]
    },
    {
     "name": "stderr",
     "output_type": "stream",
     "text": [
      " 72%|█████████████████████████████▌           | 118/164 [57:57<23:03, 30.09s/it]"
     ]
    },
    {
     "name": "stdout",
     "output_type": "stream",
     "text": [
      "list index out of range\n"
     ]
    },
    {
     "name": "stderr",
     "output_type": "stream",
     "text": [
      " 73%|█████████████████████████████▊           | 119/164 [58:27<22:34, 30.10s/it]"
     ]
    },
    {
     "name": "stdout",
     "output_type": "stream",
     "text": [
      "list index out of range\n"
     ]
    },
    {
     "name": "stderr",
     "output_type": "stream",
     "text": [
      " 73%|██████████████████████████████           | 120/164 [58:58<22:17, 30.40s/it]"
     ]
    },
    {
     "name": "stdout",
     "output_type": "stream",
     "text": [
      "list index out of range\n"
     ]
    },
    {
     "name": "stderr",
     "output_type": "stream",
     "text": [
      " 74%|██████████████████████████████▎          | 121/164 [59:29<21:49, 30.47s/it]"
     ]
    },
    {
     "name": "stdout",
     "output_type": "stream",
     "text": [
      "list index out of range\n"
     ]
    },
    {
     "name": "stderr",
     "output_type": "stream",
     "text": [
      " 74%|██████████████████████████████▌          | 122/164 [59:58<21:08, 30.21s/it]"
     ]
    },
    {
     "name": "stdout",
     "output_type": "stream",
     "text": [
      "list index out of range\n"
     ]
    },
    {
     "name": "stderr",
     "output_type": "stream",
     "text": [
      " 75%|█████████████████████████████▎         | 123/164 [1:00:28<20:28, 29.95s/it]"
     ]
    },
    {
     "name": "stdout",
     "output_type": "stream",
     "text": [
      "list index out of range\n"
     ]
    },
    {
     "name": "stderr",
     "output_type": "stream",
     "text": [
      " 76%|█████████████████████████████▍         | 124/164 [1:00:59<20:14, 30.37s/it]"
     ]
    },
    {
     "name": "stdout",
     "output_type": "stream",
     "text": [
      "list index out of range\n"
     ]
    },
    {
     "name": "stderr",
     "output_type": "stream",
     "text": [
      " 76%|█████████████████████████████▋         | 125/164 [1:01:31<19:57, 30.70s/it]"
     ]
    },
    {
     "name": "stdout",
     "output_type": "stream",
     "text": [
      "list index out of range\n"
     ]
    },
    {
     "name": "stderr",
     "output_type": "stream",
     "text": [
      " 77%|█████████████████████████████▉         | 126/164 [1:02:01<19:21, 30.57s/it]"
     ]
    },
    {
     "name": "stdout",
     "output_type": "stream",
     "text": [
      "list index out of range\n"
     ]
    },
    {
     "name": "stderr",
     "output_type": "stream",
     "text": [
      " 77%|██████████████████████████████▏        | 127/164 [1:02:32<19:01, 30.84s/it]"
     ]
    },
    {
     "name": "stdout",
     "output_type": "stream",
     "text": [
      "list index out of range\n"
     ]
    },
    {
     "name": "stderr",
     "output_type": "stream",
     "text": [
      " 78%|██████████████████████████████▍        | 128/164 [1:03:04<18:34, 30.97s/it]"
     ]
    },
    {
     "name": "stdout",
     "output_type": "stream",
     "text": [
      "list index out of range\n"
     ]
    },
    {
     "name": "stderr",
     "output_type": "stream",
     "text": [
      " 79%|██████████████████████████████▋        | 129/164 [1:03:35<18:09, 31.12s/it]"
     ]
    },
    {
     "name": "stdout",
     "output_type": "stream",
     "text": [
      "{'pass@1': np.float64(1.0), 'pass@5': np.float64(1.0)}\n"
     ]
    },
    {
     "name": "stderr",
     "output_type": "stream",
     "text": [
      " 79%|██████████████████████████████▉        | 130/164 [1:04:08<17:56, 31.67s/it]"
     ]
    },
    {
     "name": "stdout",
     "output_type": "stream",
     "text": [
      "list index out of range\n"
     ]
    },
    {
     "name": "stderr",
     "output_type": "stream",
     "text": [
      " 80%|███████████████████████████████▏       | 131/164 [1:04:39<17:18, 31.48s/it]"
     ]
    },
    {
     "name": "stdout",
     "output_type": "stream",
     "text": [
      "list index out of range\n"
     ]
    },
    {
     "name": "stderr",
     "output_type": "stream",
     "text": [
      " 80%|███████████████████████████████▍       | 132/164 [1:05:09<16:29, 30.94s/it]"
     ]
    },
    {
     "name": "stdout",
     "output_type": "stream",
     "text": [
      "list index out of range\n"
     ]
    },
    {
     "name": "stderr",
     "output_type": "stream",
     "text": [
      " 81%|███████████████████████████████▋       | 133/164 [1:05:38<15:45, 30.50s/it]"
     ]
    },
    {
     "name": "stdout",
     "output_type": "stream",
     "text": [
      "list index out of range\n"
     ]
    },
    {
     "name": "stderr",
     "output_type": "stream",
     "text": [
      " 82%|███████████████████████████████▊       | 134/164 [1:06:08<15:06, 30.21s/it]"
     ]
    },
    {
     "name": "stdout",
     "output_type": "stream",
     "text": [
      "list index out of range\n"
     ]
    },
    {
     "name": "stderr",
     "output_type": "stream",
     "text": [
      " 82%|████████████████████████████████       | 135/164 [1:06:37<14:31, 30.04s/it]"
     ]
    },
    {
     "name": "stdout",
     "output_type": "stream",
     "text": [
      "list index out of range\n"
     ]
    },
    {
     "name": "stderr",
     "output_type": "stream",
     "text": [
      " 83%|████████████████████████████████▎      | 136/164 [1:07:07<13:56, 29.86s/it]"
     ]
    },
    {
     "name": "stdout",
     "output_type": "stream",
     "text": [
      "{'pass@1': np.float64(1.0), 'pass@5': np.float64(1.0)}\n"
     ]
    },
    {
     "name": "stderr",
     "output_type": "stream",
     "text": [
      " 84%|████████████████████████████████▌      | 137/164 [1:07:37<13:28, 29.93s/it]"
     ]
    },
    {
     "name": "stdout",
     "output_type": "stream",
     "text": [
      "list index out of range\n"
     ]
    },
    {
     "name": "stderr",
     "output_type": "stream",
     "text": [
      " 84%|████████████████████████████████▊      | 138/164 [1:08:07<12:55, 29.81s/it]"
     ]
    },
    {
     "name": "stdout",
     "output_type": "stream",
     "text": [
      "list index out of range\n"
     ]
    },
    {
     "name": "stderr",
     "output_type": "stream",
     "text": [
      " 85%|█████████████████████████████████      | 139/164 [1:08:36<12:23, 29.75s/it]"
     ]
    },
    {
     "name": "stdout",
     "output_type": "stream",
     "text": [
      "list index out of range\n"
     ]
    },
    {
     "name": "stderr",
     "output_type": "stream",
     "text": [
      " 85%|█████████████████████████████████▎     | 140/164 [1:09:06<11:52, 29.70s/it]"
     ]
    },
    {
     "name": "stdout",
     "output_type": "stream",
     "text": [
      "list index out of range\n"
     ]
    },
    {
     "name": "stderr",
     "output_type": "stream",
     "text": [
      " 86%|█████████████████████████████████▌     | 141/164 [1:09:35<11:19, 29.56s/it]"
     ]
    },
    {
     "name": "stdout",
     "output_type": "stream",
     "text": [
      "list index out of range\n"
     ]
    },
    {
     "name": "stderr",
     "output_type": "stream",
     "text": [
      " 87%|█████████████████████████████████▊     | 142/164 [1:10:05<10:55, 29.80s/it]"
     ]
    },
    {
     "name": "stdout",
     "output_type": "stream",
     "text": [
      "list index out of range\n"
     ]
    },
    {
     "name": "stderr",
     "output_type": "stream",
     "text": [
      " 87%|██████████████████████████████████     | 143/164 [1:10:35<10:24, 29.74s/it]"
     ]
    },
    {
     "name": "stdout",
     "output_type": "stream",
     "text": [
      "list index out of range\n"
     ]
    },
    {
     "name": "stderr",
     "output_type": "stream",
     "text": [
      " 88%|██████████████████████████████████▏    | 144/164 [1:11:04<09:53, 29.68s/it]"
     ]
    },
    {
     "name": "stdout",
     "output_type": "stream",
     "text": [
      "list index out of range\n"
     ]
    },
    {
     "name": "stderr",
     "output_type": "stream",
     "text": [
      " 88%|██████████████████████████████████▍    | 145/164 [1:11:34<09:23, 29.64s/it]"
     ]
    },
    {
     "name": "stdout",
     "output_type": "stream",
     "text": [
      "list index out of range\n"
     ]
    },
    {
     "name": "stderr",
     "output_type": "stream",
     "text": [
      " 89%|██████████████████████████████████▋    | 146/164 [1:12:04<08:56, 29.82s/it]"
     ]
    },
    {
     "name": "stdout",
     "output_type": "stream",
     "text": [
      "list index out of range\n"
     ]
    },
    {
     "name": "stderr",
     "output_type": "stream",
     "text": [
      " 90%|██████████████████████████████████▉    | 147/164 [1:12:35<08:30, 30.02s/it]"
     ]
    },
    {
     "name": "stdout",
     "output_type": "stream",
     "text": [
      "list index out of range\n"
     ]
    },
    {
     "name": "stderr",
     "output_type": "stream",
     "text": [
      " 90%|███████████████████████████████████▏   | 148/164 [1:13:06<08:08, 30.51s/it]"
     ]
    },
    {
     "name": "stdout",
     "output_type": "stream",
     "text": [
      "{'pass@1': np.float64(1.0), 'pass@5': np.float64(1.0)}\n"
     ]
    },
    {
     "name": "stderr",
     "output_type": "stream",
     "text": [
      " 91%|███████████████████████████████████▍   | 149/164 [1:13:37<07:39, 30.66s/it]"
     ]
    },
    {
     "name": "stdout",
     "output_type": "stream",
     "text": [
      "list index out of range\n"
     ]
    },
    {
     "name": "stderr",
     "output_type": "stream",
     "text": [
      " 91%|███████████████████████████████████▋   | 150/164 [1:14:07<07:04, 30.33s/it]"
     ]
    },
    {
     "name": "stdout",
     "output_type": "stream",
     "text": [
      "list index out of range\n"
     ]
    },
    {
     "name": "stderr",
     "output_type": "stream",
     "text": [
      " 92%|███████████████████████████████████▉   | 151/164 [1:14:38<06:37, 30.59s/it]"
     ]
    },
    {
     "name": "stdout",
     "output_type": "stream",
     "text": [
      "{'pass@1': np.float64(1.0), 'pass@5': np.float64(1.0)}\n"
     ]
    },
    {
     "name": "stderr",
     "output_type": "stream",
     "text": [
      " 93%|████████████████████████████████████▏  | 152/164 [1:15:10<06:10, 30.87s/it]"
     ]
    },
    {
     "name": "stdout",
     "output_type": "stream",
     "text": [
      "{'pass@1': np.float64(1.0), 'pass@5': np.float64(1.0)}\n"
     ]
    },
    {
     "name": "stderr",
     "output_type": "stream",
     "text": [
      " 93%|████████████████████████████████████▍  | 153/164 [1:15:41<05:40, 30.93s/it]"
     ]
    },
    {
     "name": "stdout",
     "output_type": "stream",
     "text": [
      "list index out of range\n"
     ]
    },
    {
     "name": "stderr",
     "output_type": "stream",
     "text": [
      " 94%|████████████████████████████████████▌  | 154/164 [1:16:13<05:12, 31.27s/it]"
     ]
    },
    {
     "name": "stdout",
     "output_type": "stream",
     "text": [
      "list index out of range\n"
     ]
    }
   ],
   "source": [
    "# run vicuna on dataset\n",
    "from tqdm import trange\n",
    "import json\n",
    "\n",
    "# file to log to\n",
    "file_prefix = \"cot_results_llama\"\n",
    "\n",
    "# run on llama model\n",
    "run_evals(ev, humanevalplus_ds, file_prefix)"
   ]
  },
  {
   "cell_type": "markdown",
   "metadata": {},
   "source": [
    "# Question 2 Experiments"
   ]
  },
  {
   "cell_type": "code",
   "execution_count": 7,
   "metadata": {},
   "outputs": [],
   "source": [
    "# find results where there were failures and success cases\n",
    "from glob import glob\n",
    "import json\n",
    "\n",
    "# placehold for cases\n",
    "cases = []\n",
    "\n",
    "for p in glob(\"test_data/*.json\"):\n",
    "    with open(p, 'r') as f:\n",
    "        # load json file\n",
    "        payload = json.load(f)\n",
    "        res = payload['results']\n",
    "\n",
    "        # create relevant info dict\n",
    "        info = {}\n",
    "        info['prompt'] = payload['prompt']\n",
    "        info['pass@1'] = res[0]['pass@1']\n",
    "        info['pass@5'] = res[0]['pass@5']\n",
    "        info['result'] = res[1]\n",
    "        info['test'] = payload['test']\n",
    "\n",
    "        # append model information\n",
    "        if (f.name.split('_')[3] == 'llama'):\n",
    "            info['model'] = 'vicuna'\n",
    "        else:\n",
    "            info['model'] = 'qwen'\n",
    "\n",
    "        # append pass/fail information\n",
    "        if (res[0]['pass@1'] < 1.0):\n",
    "            info['status'] = 'fail'\n",
    "        else:\n",
    "            info['status'] = 'pass'\n",
    "\n",
    "        # append to all cases\n",
    "        cases.append(info)"
   ]
  },
  {
   "cell_type": "code",
   "execution_count": 8,
   "metadata": {},
   "outputs": [],
   "source": [
    "import pandas as pd\n",
    "\n",
    "# create results for creating tables\n",
    "tabular_results = [{k:v for k,v in info.items() if k != 'result'} for info in cases]\n",
    "\n",
    "# separate results for each model\n",
    "tab_results_qwen = pd.DataFrame([res for res in tabular_results if res['model'] == 'qwen'])\n",
    "tab_results_vicuna = pd.DataFrame([res for res in tabular_results if res['model'] == 'vicuna'])\n",
    "\n",
    "# pick two failures and eight successes from for each model's results\n",
    "tab_results_qwen = pd.concat([tab_results_qwen[tab_results_qwen['pass@5'] < 1][:2], tab_results_qwen[tab_results_qwen['status'] == 'pass'][:8]], axis=0)\n",
    "tab_results_vicuna = pd.concat([tab_results_vicuna[tab_results_vicuna['pass@1'] < 1][:2], tab_results_vicuna[tab_results_vicuna['status'] == 'pass'][:8]], axis=0)\n",
    "\n",
    "# reset indices\n",
    "tab_results_qwen.reset_index(inplace=True, drop=True)\n",
    "tab_results_vicuna.reset_index(inplace=True, drop=True)\n",
    "\n",
    "tab_results_qwen.to_excel('qwen_cot.xlsx', index=False)\n",
    "tab_results_vicuna.to_excel('vicuna_cot.xlsx', index=False)"
   ]
  },
  {
   "cell_type": "code",
   "execution_count": 9,
   "metadata": {},
   "outputs": [
    {
     "data": {
      "text/html": [
       "<div>\n",
       "<style scoped>\n",
       "    .dataframe tbody tr th:only-of-type {\n",
       "        vertical-align: middle;\n",
       "    }\n",
       "\n",
       "    .dataframe tbody tr th {\n",
       "        vertical-align: top;\n",
       "    }\n",
       "\n",
       "    .dataframe thead th {\n",
       "        text-align: right;\n",
       "    }\n",
       "</style>\n",
       "<table border=\"1\" class=\"dataframe\">\n",
       "  <thead>\n",
       "    <tr style=\"text-align: right;\">\n",
       "      <th></th>\n",
       "      <th>prompt</th>\n",
       "      <th>pass@1</th>\n",
       "      <th>pass@5</th>\n",
       "      <th>test</th>\n",
       "      <th>model</th>\n",
       "      <th>status</th>\n",
       "    </tr>\n",
       "  </thead>\n",
       "  <tbody>\n",
       "    <tr>\n",
       "      <th>0</th>\n",
       "      <td>Implement the python function given by this de...</td>\n",
       "      <td>0.4</td>\n",
       "      <td>0.97619</td>\n",
       "      <td>\\n\\nimport numpy as np\\n\\ndef is_floats(x) -&gt; ...</td>\n",
       "      <td>qwen</td>\n",
       "      <td>fail</td>\n",
       "    </tr>\n",
       "    <tr>\n",
       "      <th>1</th>\n",
       "      <td>Implement the python function given by this de...</td>\n",
       "      <td>0.1</td>\n",
       "      <td>0.50000</td>\n",
       "      <td>\\n\\nimport numpy as np\\n\\ndef is_floats(x) -&gt; ...</td>\n",
       "      <td>qwen</td>\n",
       "      <td>fail</td>\n",
       "    </tr>\n",
       "    <tr>\n",
       "      <th>2</th>\n",
       "      <td>Implement the python function given by this de...</td>\n",
       "      <td>1.0</td>\n",
       "      <td>1.00000</td>\n",
       "      <td>\\n\\nimport numpy as np\\n\\ndef is_floats(x) -&gt; ...</td>\n",
       "      <td>qwen</td>\n",
       "      <td>pass</td>\n",
       "    </tr>\n",
       "    <tr>\n",
       "      <th>3</th>\n",
       "      <td>Implement the python function given by this de...</td>\n",
       "      <td>1.0</td>\n",
       "      <td>1.00000</td>\n",
       "      <td>\\n\\nimport numpy as np\\n\\ndef is_floats(x) -&gt; ...</td>\n",
       "      <td>qwen</td>\n",
       "      <td>pass</td>\n",
       "    </tr>\n",
       "    <tr>\n",
       "      <th>4</th>\n",
       "      <td>Implement the python function given by this de...</td>\n",
       "      <td>1.0</td>\n",
       "      <td>1.00000</td>\n",
       "      <td>\\n\\nimport numpy as np\\n\\ndef is_floats(x) -&gt; ...</td>\n",
       "      <td>qwen</td>\n",
       "      <td>pass</td>\n",
       "    </tr>\n",
       "    <tr>\n",
       "      <th>5</th>\n",
       "      <td>Implement the python function given by this de...</td>\n",
       "      <td>1.0</td>\n",
       "      <td>1.00000</td>\n",
       "      <td>\\n\\nimport numpy as np\\n\\ndef is_floats(x) -&gt; ...</td>\n",
       "      <td>qwen</td>\n",
       "      <td>pass</td>\n",
       "    </tr>\n",
       "    <tr>\n",
       "      <th>6</th>\n",
       "      <td>Implement the python function given by this de...</td>\n",
       "      <td>1.0</td>\n",
       "      <td>1.00000</td>\n",
       "      <td>\\n\\nimport numpy as np\\n\\ndef is_floats(x) -&gt; ...</td>\n",
       "      <td>qwen</td>\n",
       "      <td>pass</td>\n",
       "    </tr>\n",
       "    <tr>\n",
       "      <th>7</th>\n",
       "      <td>Implement the python function given by this de...</td>\n",
       "      <td>1.0</td>\n",
       "      <td>1.00000</td>\n",
       "      <td>\\n\\nimport numpy as np\\n\\ndef is_floats(x) -&gt; ...</td>\n",
       "      <td>qwen</td>\n",
       "      <td>pass</td>\n",
       "    </tr>\n",
       "    <tr>\n",
       "      <th>8</th>\n",
       "      <td>Implement the python function given by this de...</td>\n",
       "      <td>1.0</td>\n",
       "      <td>1.00000</td>\n",
       "      <td>\\n\\nimport numpy as np\\n\\ndef is_floats(x) -&gt; ...</td>\n",
       "      <td>qwen</td>\n",
       "      <td>pass</td>\n",
       "    </tr>\n",
       "    <tr>\n",
       "      <th>9</th>\n",
       "      <td>Implement the python function given by this de...</td>\n",
       "      <td>1.0</td>\n",
       "      <td>1.00000</td>\n",
       "      <td>\\n\\nimport numpy as np\\n\\ndef is_floats(x) -&gt; ...</td>\n",
       "      <td>qwen</td>\n",
       "      <td>pass</td>\n",
       "    </tr>\n",
       "  </tbody>\n",
       "</table>\n",
       "</div>"
      ],
      "text/plain": [
       "                                              prompt  pass@1   pass@5  \\\n",
       "0  Implement the python function given by this de...     0.4  0.97619   \n",
       "1  Implement the python function given by this de...     0.1  0.50000   \n",
       "2  Implement the python function given by this de...     1.0  1.00000   \n",
       "3  Implement the python function given by this de...     1.0  1.00000   \n",
       "4  Implement the python function given by this de...     1.0  1.00000   \n",
       "5  Implement the python function given by this de...     1.0  1.00000   \n",
       "6  Implement the python function given by this de...     1.0  1.00000   \n",
       "7  Implement the python function given by this de...     1.0  1.00000   \n",
       "8  Implement the python function given by this de...     1.0  1.00000   \n",
       "9  Implement the python function given by this de...     1.0  1.00000   \n",
       "\n",
       "                                                test model status  \n",
       "0  \\n\\nimport numpy as np\\n\\ndef is_floats(x) -> ...  qwen   fail  \n",
       "1  \\n\\nimport numpy as np\\n\\ndef is_floats(x) -> ...  qwen   fail  \n",
       "2  \\n\\nimport numpy as np\\n\\ndef is_floats(x) -> ...  qwen   pass  \n",
       "3  \\n\\nimport numpy as np\\n\\ndef is_floats(x) -> ...  qwen   pass  \n",
       "4  \\n\\nimport numpy as np\\n\\ndef is_floats(x) -> ...  qwen   pass  \n",
       "5  \\n\\nimport numpy as np\\n\\ndef is_floats(x) -> ...  qwen   pass  \n",
       "6  \\n\\nimport numpy as np\\n\\ndef is_floats(x) -> ...  qwen   pass  \n",
       "7  \\n\\nimport numpy as np\\n\\ndef is_floats(x) -> ...  qwen   pass  \n",
       "8  \\n\\nimport numpy as np\\n\\ndef is_floats(x) -> ...  qwen   pass  \n",
       "9  \\n\\nimport numpy as np\\n\\ndef is_floats(x) -> ...  qwen   pass  "
      ]
     },
     "execution_count": 9,
     "metadata": {},
     "output_type": "execute_result"
    }
   ],
   "source": [
    "tab_results_qwen"
   ]
  },
  {
   "cell_type": "code",
   "execution_count": 10,
   "metadata": {},
   "outputs": [
    {
     "data": {
      "text/html": [
       "<div>\n",
       "<style scoped>\n",
       "    .dataframe tbody tr th:only-of-type {\n",
       "        vertical-align: middle;\n",
       "    }\n",
       "\n",
       "    .dataframe tbody tr th {\n",
       "        vertical-align: top;\n",
       "    }\n",
       "\n",
       "    .dataframe thead th {\n",
       "        text-align: right;\n",
       "    }\n",
       "</style>\n",
       "<table border=\"1\" class=\"dataframe\">\n",
       "  <thead>\n",
       "    <tr style=\"text-align: right;\">\n",
       "      <th></th>\n",
       "      <th>prompt</th>\n",
       "      <th>pass@1</th>\n",
       "      <th>pass@5</th>\n",
       "      <th>test</th>\n",
       "      <th>model</th>\n",
       "      <th>status</th>\n",
       "    </tr>\n",
       "  </thead>\n",
       "  <tbody>\n",
       "    <tr>\n",
       "      <th>0</th>\n",
       "      <td>Implement the python function given by this de...</td>\n",
       "      <td>0.8</td>\n",
       "      <td>1.0</td>\n",
       "      <td>\\n\\nimport numpy as np\\n\\ndef is_floats(x) -&gt; ...</td>\n",
       "      <td>vicuna</td>\n",
       "      <td>fail</td>\n",
       "    </tr>\n",
       "    <tr>\n",
       "      <th>1</th>\n",
       "      <td>Implement the python function given by this de...</td>\n",
       "      <td>0.8</td>\n",
       "      <td>1.0</td>\n",
       "      <td>\\n\\nimport numpy as np\\n\\ndef is_floats(x) -&gt; ...</td>\n",
       "      <td>vicuna</td>\n",
       "      <td>fail</td>\n",
       "    </tr>\n",
       "    <tr>\n",
       "      <th>2</th>\n",
       "      <td>Implement the python function given by this de...</td>\n",
       "      <td>1.0</td>\n",
       "      <td>1.0</td>\n",
       "      <td>\\n\\nimport numpy as np\\n\\ndef is_floats(x) -&gt; ...</td>\n",
       "      <td>vicuna</td>\n",
       "      <td>pass</td>\n",
       "    </tr>\n",
       "    <tr>\n",
       "      <th>3</th>\n",
       "      <td>Implement the python function given by this de...</td>\n",
       "      <td>1.0</td>\n",
       "      <td>1.0</td>\n",
       "      <td>\\n\\nimport numpy as np\\n\\ndef is_floats(x) -&gt; ...</td>\n",
       "      <td>vicuna</td>\n",
       "      <td>pass</td>\n",
       "    </tr>\n",
       "    <tr>\n",
       "      <th>4</th>\n",
       "      <td>Implement the python function given by this de...</td>\n",
       "      <td>1.0</td>\n",
       "      <td>1.0</td>\n",
       "      <td>\\n\\nimport numpy as np\\n\\ndef is_floats(x) -&gt; ...</td>\n",
       "      <td>vicuna</td>\n",
       "      <td>pass</td>\n",
       "    </tr>\n",
       "    <tr>\n",
       "      <th>5</th>\n",
       "      <td>Implement the python function given by this de...</td>\n",
       "      <td>1.0</td>\n",
       "      <td>1.0</td>\n",
       "      <td>\\n\\nimport numpy as np\\n\\ndef is_floats(x) -&gt; ...</td>\n",
       "      <td>vicuna</td>\n",
       "      <td>pass</td>\n",
       "    </tr>\n",
       "    <tr>\n",
       "      <th>6</th>\n",
       "      <td>Implement the python function given by this de...</td>\n",
       "      <td>1.0</td>\n",
       "      <td>1.0</td>\n",
       "      <td>\\n\\nimport numpy as np\\n\\ndef is_floats(x) -&gt; ...</td>\n",
       "      <td>vicuna</td>\n",
       "      <td>pass</td>\n",
       "    </tr>\n",
       "    <tr>\n",
       "      <th>7</th>\n",
       "      <td>Implement the python function given by this de...</td>\n",
       "      <td>1.0</td>\n",
       "      <td>1.0</td>\n",
       "      <td>\\n\\nimport numpy as np\\n\\ndef is_floats(x) -&gt; ...</td>\n",
       "      <td>vicuna</td>\n",
       "      <td>pass</td>\n",
       "    </tr>\n",
       "    <tr>\n",
       "      <th>8</th>\n",
       "      <td>Implement the python function given by this de...</td>\n",
       "      <td>1.0</td>\n",
       "      <td>1.0</td>\n",
       "      <td>import numpy as np\\n\\ndef is_floats(x) -&gt; bool...</td>\n",
       "      <td>vicuna</td>\n",
       "      <td>pass</td>\n",
       "    </tr>\n",
       "    <tr>\n",
       "      <th>9</th>\n",
       "      <td>Implement the python function given by this de...</td>\n",
       "      <td>1.0</td>\n",
       "      <td>1.0</td>\n",
       "      <td>\\n\\nimport numpy as np\\n\\ndef is_floats(x) -&gt; ...</td>\n",
       "      <td>vicuna</td>\n",
       "      <td>pass</td>\n",
       "    </tr>\n",
       "  </tbody>\n",
       "</table>\n",
       "</div>"
      ],
      "text/plain": [
       "                                              prompt  pass@1  pass@5  \\\n",
       "0  Implement the python function given by this de...     0.8     1.0   \n",
       "1  Implement the python function given by this de...     0.8     1.0   \n",
       "2  Implement the python function given by this de...     1.0     1.0   \n",
       "3  Implement the python function given by this de...     1.0     1.0   \n",
       "4  Implement the python function given by this de...     1.0     1.0   \n",
       "5  Implement the python function given by this de...     1.0     1.0   \n",
       "6  Implement the python function given by this de...     1.0     1.0   \n",
       "7  Implement the python function given by this de...     1.0     1.0   \n",
       "8  Implement the python function given by this de...     1.0     1.0   \n",
       "9  Implement the python function given by this de...     1.0     1.0   \n",
       "\n",
       "                                                test   model status  \n",
       "0  \\n\\nimport numpy as np\\n\\ndef is_floats(x) -> ...  vicuna   fail  \n",
       "1  \\n\\nimport numpy as np\\n\\ndef is_floats(x) -> ...  vicuna   fail  \n",
       "2  \\n\\nimport numpy as np\\n\\ndef is_floats(x) -> ...  vicuna   pass  \n",
       "3  \\n\\nimport numpy as np\\n\\ndef is_floats(x) -> ...  vicuna   pass  \n",
       "4  \\n\\nimport numpy as np\\n\\ndef is_floats(x) -> ...  vicuna   pass  \n",
       "5  \\n\\nimport numpy as np\\n\\ndef is_floats(x) -> ...  vicuna   pass  \n",
       "6  \\n\\nimport numpy as np\\n\\ndef is_floats(x) -> ...  vicuna   pass  \n",
       "7  \\n\\nimport numpy as np\\n\\ndef is_floats(x) -> ...  vicuna   pass  \n",
       "8  import numpy as np\\n\\ndef is_floats(x) -> bool...  vicuna   pass  \n",
       "9  \\n\\nimport numpy as np\\n\\ndef is_floats(x) -> ...  vicuna   pass  "
      ]
     },
     "execution_count": 10,
     "metadata": {},
     "output_type": "execute_result"
    }
   ],
   "source": [
    "tab_results_vicuna"
   ]
  },
  {
   "cell_type": "code",
   "execution_count": 11,
   "metadata": {},
   "outputs": [],
   "source": [
    "failed_prompts_qwen = tab_results_qwen[tab_results_qwen['status'] == 'fail']['prompt']\n",
    "qwen_failures = [(info['result'], info['prompt'], info['pass@1'], info['pass@5'], info['test'])\n",
    " for info in cases if info['prompt'] == failed_prompts_qwen[0] or\n",
    " info['prompt'] == failed_prompts_qwen[1]\n",
    "][:2]"
   ]
  },
  {
   "cell_type": "code",
   "execution_count": 12,
   "metadata": {},
   "outputs": [],
   "source": [
    "failed_prompts_vicuna = tab_results_vicuna[tab_results_vicuna['status'] == 'fail']['prompt']\n",
    "vicuna_failures = [(info['result'], info['prompt'], info['pass@1'], info['pass@5'], info['test'])\n",
    " for info in cases if info['prompt'] == failed_prompts_vicuna[0] or\n",
    " info['prompt'] == failed_prompts_vicuna[1]\n",
    "][:2]"
   ]
  },
  {
   "cell_type": "code",
   "execution_count": 13,
   "metadata": {},
   "outputs": [
    {
     "name": "stdout",
     "output_type": "stream",
     "text": [
      "Implement the python function given by this definition:\n",
      "\n",
      "from typing import List\n",
      "\n",
      "\n",
      "def sort_numbers(numbers: str) -> str:\n",
      "    \"\"\" Input is a space-delimited string of numberals from 'zero' to 'nine'.\n",
      "    Valid choices are 'zero', 'one', 'two', 'three', 'four', 'five', 'six', 'seven', 'eight' and 'nine'.\n",
      "    Return the string with numbers sorted from smallest to largest\n",
      "    >>> sort_numbers('three one five')\n",
      "    'one three five'\n",
      "    \"\"\"\n",
      "\n",
      "\n",
      "Let's think step by step.\n",
      "\n",
      "0.4\n",
      "0.9761904761904762\n",
      "failed: invalid literal for int() with base 10: 'three'\n",
      "failed: invalid literal for int() with base 10: 'three'\n",
      "failed: '1'\n",
      "failed: invalid literal for int() with base 10: 'three'\n",
      "failed: \n",
      "failed: list indices must be integers or slices, not list\n",
      "\n",
      "Implement the python function given by this definition:\n",
      "\n",
      "from typing import List\n",
      "\n",
      "\n",
      "def parse_music(music_string: str) -> List[int]:\n",
      "    \"\"\" Input to this function is a string representing musical notes in a special ASCII format.\n",
      "    Your task is to parse this string and return list of integers corresponding to how many beats does each\n",
      "    not last.\n",
      "\n",
      "    Here is a legend:\n",
      "    'o' - whole note, lasts four beats\n",
      "    'o|' - half note, lasts two beats\n",
      "    '.|' - quater note, lasts one beat\n",
      "\n",
      "    >>> parse_music('o o| .| o| o| .| .| .| .| o o')\n",
      "    [4, 2, 1, 2, 2, 1, 1, 1, 1, 4, 4]\n",
      "    \"\"\"\n",
      "\n",
      "\n",
      "Let's think step by step.\n",
      "\n",
      "0.09999999999999998\n",
      "0.5\n",
      "failed: name 'List' is not defined\n",
      "failed: name 'List' is not defined\n",
      "failed: name 'List' is not defined\n",
      "failed: name 'List' is not defined\n",
      "failed: name 'List' is not defined\n",
      "failed: name 'List' is not defined\n",
      "failed: name 'List' is not defined\n",
      "failed: unexpected indent (<string>, line 3)\n",
      "failed: name 'List' is not defined\n",
      "\n"
     ]
    }
   ],
   "source": [
    "for fail, prompt, k1, k5, _ in qwen_failures:\n",
    "    for f in fail:\n",
    "        print(prompt)\n",
    "        print(k1)\n",
    "        print(k5)\n",
    "        for results in fail['0']:\n",
    "            result = results[-1]\n",
    "            if result['result'].startswith('failed'):\n",
    "                print(result['result'])\n",
    "    print()"
   ]
  },
  {
   "cell_type": "code",
   "execution_count": 14,
   "metadata": {},
   "outputs": [
    {
     "name": "stdout",
     "output_type": "stream",
     "text": [
      "Implement the python function given by this definition:\n",
      "\n",
      "from typing import List\n",
      "\n",
      "\n",
      "def filter_by_substring(strings: List[str], substring: str) -> List[str]:\n",
      "    \"\"\" Filter an input list of strings only for ones that contain given substring\n",
      "    >>> filter_by_substring([], 'a')\n",
      "    []\n",
      "    >>> filter_by_substring(['abc', 'bacd', 'cde', 'array'], 'a')\n",
      "    ['abc', 'bacd', 'array']\n",
      "    \"\"\"\n",
      "\n",
      "\n",
      "Let's think step by step.\n",
      "\n",
      "0.5999999999999999\n",
      "1.0\n",
      "failed: name 'List' is not defined\n",
      "failed: name 'List' is not defined\n",
      "failed: name 'List' is not defined\n",
      "failed: name 'List' is not defined\n",
      "\n",
      "Implement the python function given by this definition:\n",
      "\n",
      "from typing import List, Tuple\n",
      "\n",
      "\n",
      "def rolling_max(numbers: List[int]) -> List[int]:\n",
      "    \"\"\" From a given list of integers, generate a list of rolling maximum element found until given moment\n",
      "    in the sequence.\n",
      "    >>> rolling_max([1, 2, 3, 2, 3, 4, 2])\n",
      "    [1, 2, 3, 3, 3, 4, 4]\n",
      "    \"\"\"\n",
      "\n",
      "\n",
      "Let's think step by step.\n",
      "\n",
      "0.8\n",
      "1.0\n",
      "failed: name 'List' is not defined\n",
      "\n"
     ]
    }
   ],
   "source": [
    "for fail, prompt, k1, k5, _ in vicuna_failures:\n",
    "    for f in fail:\n",
    "        print(prompt)\n",
    "        print(k1)\n",
    "        print(k5)\n",
    "        for results in fail['0']:\n",
    "            result = results[-1]\n",
    "            if result['result'].startswith('failed'):\n",
    "                print(result['result'])\n",
    "    print()"
   ]
  },
  {
   "cell_type": "code",
   "execution_count": null,
   "metadata": {},
   "outputs": [],
   "source": []
  },
  {
   "cell_type": "code",
   "execution_count": null,
   "metadata": {},
   "outputs": [],
   "source": []
  },
  {
   "cell_type": "code",
   "execution_count": 17,
   "metadata": {},
   "outputs": [],
   "source": [
    "# load qwen model\n",
    "ev = PassKEvaluator(MODEL_NAMES[0])"
   ]
  },
  {
   "cell_type": "code",
   "execution_count": 34,
   "metadata": {},
   "outputs": [],
   "source": [
    "# first qwen prompt\n",
    "results, candidates = ev.evaluate(\n",
    "    [qwen_failures[0][-1]],\n",
    "    qwen_failures[0][1] + ' convert the input to a list of numbers before sorting them.',\n",
    "    [1,5]\n",
    ")"
   ]
  },
  {
   "cell_type": "code",
   "execution_count": 23,
   "metadata": {},
   "outputs": [
    {
     "name": "stdout",
     "output_type": "stream",
     "text": [
      "original:  Implement the python function given by this definition:\n",
      "\n",
      "from typing import List\n",
      "\n",
      "\n",
      "def sort_numbers(numbers: str) -> str:\n",
      "    \"\"\" Input is a space-delimited string of numberals from 'zero' to 'nine'.\n",
      "    Valid choices are 'zero', 'one', 'two', 'three', 'four', 'five', 'six', 'seven', 'eight' and 'nine'.\n",
      "    Return the string with numbers sorted from smallest to largest\n",
      "    >>> sort_numbers('three one five')\n",
      "    'one three five'\n",
      "    \"\"\"\n",
      "\n",
      "\n",
      "Let's think step by step.\n",
      "\n",
      "\n",
      "new:  Implement the python function given by this definition:\n",
      "\n",
      "from typing import List\n",
      "\n",
      "\n",
      "def sort_numbers(numbers: str) -> str:\n",
      "    \"\"\" Input is a space-delimited string of numberals from 'zero' to 'nine'.\n",
      "    Valid choices are 'zero', 'one', 'two', 'three', 'four', 'five', 'six', 'seven', 'eight' and 'nine'.\n",
      "    Return the string with numbers sorted from smallest to largest\n",
      "    >>> sort_numbers('three one five')\n",
      "    'one three five'\n",
      "    \"\"\"\n",
      "\n",
      "\n",
      "Let's think step by step.\n",
      " convert the input to a list of numbers before sorting them.\n"
     ]
    }
   ],
   "source": [
    "print('original: ', qwen_failures[0][1])\n",
    "print()\n",
    "print('new: ', qwen_failures[0][1] + ' convert the input to a list of numbers before sorting them.')"
   ]
  },
  {
   "cell_type": "code",
   "execution_count": 39,
   "metadata": {},
   "outputs": [
    {
     "name": "stdout",
     "output_type": "stream",
     "text": [
      "new results:  1.0 1.0\n",
      "old results:  0.4 0.9761904761904762\n"
     ]
    }
   ],
   "source": [
    "print(\"new results: \", results[0]['pass@1'], results[0]['pass@5'])\n",
    "print(\"old results: \", qwen_failures[0][2], qwen_failures[0][3])"
   ]
  },
  {
   "cell_type": "code",
   "execution_count": 40,
   "metadata": {},
   "outputs": [],
   "source": [
    "# second qwen prompt\n",
    "results, candidates = ev.evaluate(\n",
    "    [qwen_failures[1][-1]],\n",
    "    qwen_failures[1][1] + ' Include necessary imports in the generated python code',\n",
    "    [1,5]\n",
    ")"
   ]
  },
  {
   "cell_type": "code",
   "execution_count": 24,
   "metadata": {},
   "outputs": [
    {
     "name": "stdout",
     "output_type": "stream",
     "text": [
      "original:  Implement the python function given by this definition:\n",
      "\n",
      "from typing import List\n",
      "\n",
      "\n",
      "def parse_music(music_string: str) -> List[int]:\n",
      "    \"\"\" Input to this function is a string representing musical notes in a special ASCII format.\n",
      "    Your task is to parse this string and return list of integers corresponding to how many beats does each\n",
      "    not last.\n",
      "\n",
      "    Here is a legend:\n",
      "    'o' - whole note, lasts four beats\n",
      "    'o|' - half note, lasts two beats\n",
      "    '.|' - quater note, lasts one beat\n",
      "\n",
      "    >>> parse_music('o o| .| o| o| .| .| .| .| o o')\n",
      "    [4, 2, 1, 2, 2, 1, 1, 1, 1, 4, 4]\n",
      "    \"\"\"\n",
      "\n",
      "\n",
      "Let's think step by step.\n",
      "\n",
      "\n",
      "new:  Implement the python function given by this definition:\n",
      "\n",
      "from typing import List\n",
      "\n",
      "\n",
      "def parse_music(music_string: str) -> List[int]:\n",
      "    \"\"\" Input to this function is a string representing musical notes in a special ASCII format.\n",
      "    Your task is to parse this string and return list of integers corresponding to how many beats does each\n",
      "    not last.\n",
      "\n",
      "    Here is a legend:\n",
      "    'o' - whole note, lasts four beats\n",
      "    'o|' - half note, lasts two beats\n",
      "    '.|' - quater note, lasts one beat\n",
      "\n",
      "    >>> parse_music('o o| .| o| o| .| .| .| .| o o')\n",
      "    [4, 2, 1, 2, 2, 1, 1, 1, 1, 4, 4]\n",
      "    \"\"\"\n",
      "\n",
      "\n",
      "Let's think step by step.\n",
      " convert the input to a list of numbers before sorting them.\n"
     ]
    }
   ],
   "source": [
    "print('original: ', qwen_failures[1][1])\n",
    "print()\n",
    "print('new: ', qwen_failures[1][1] + ' convert the input to a list of numbers before sorting them.')"
   ]
  },
  {
   "cell_type": "code",
   "execution_count": 42,
   "metadata": {},
   "outputs": [
    {
     "name": "stdout",
     "output_type": "stream",
     "text": [
      "new results:  0.8 1.0\n",
      "old results:  0.09999999999999998 0.5\n"
     ]
    }
   ],
   "source": [
    "print(\"new results: \", results[0]['pass@1'], results[0]['pass@5'])\n",
    "print(\"old results: \", qwen_failures[1][2], qwen_failures[1][3])"
   ]
  },
  {
   "cell_type": "code",
   "execution_count": 15,
   "metadata": {},
   "outputs": [
    {
     "data": {
      "application/vnd.jupyter.widget-view+json": {
       "model_id": "032a6d143c094a73949ffbb0d950af6d",
       "version_major": 2,
       "version_minor": 0
      },
      "text/plain": [
       "Loading checkpoint shards:   0%|          | 0/2 [00:00<?, ?it/s]"
      ]
     },
     "metadata": {},
     "output_type": "display_data"
    },
    {
     "name": "stderr",
     "output_type": "stream",
     "text": [
      "The following generation flags are not valid and may be ignored: ['temperature', 'top_p']. Set `TRANSFORMERS_VERBOSITY=info` for more details.\n"
     ]
    }
   ],
   "source": [
    "quantization_config = BitsAndBytesConfig(\n",
    "    load_in_4bit=True,\n",
    "    bnb_4bit_compute_dtype=torch.float16  # Recommended for speed\n",
    ")\n",
    "\n",
    "ev = PassKEvaluator(MODEL_NAMES[1], quantization_config=quantization_config)"
   ]
  },
  {
   "cell_type": "code",
   "execution_count": 21,
   "metadata": {},
   "outputs": [],
   "source": [
    "# first vicuna prompt\n",
    "results, candidates = ev.evaluate(\n",
    "    [vicuna_failures[0][-1]],\n",
    "    vicuna_failures[0][1] + ' Include necessary imports in the generated python code before the python function definition',\n",
    "    [1,5]\n",
    ")"
   ]
  },
  {
   "cell_type": "code",
   "execution_count": 25,
   "metadata": {},
   "outputs": [
    {
     "name": "stdout",
     "output_type": "stream",
     "text": [
      "original:  Implement the python function given by this definition:\n",
      "\n",
      "from typing import List\n",
      "\n",
      "\n",
      "def filter_by_substring(strings: List[str], substring: str) -> List[str]:\n",
      "    \"\"\" Filter an input list of strings only for ones that contain given substring\n",
      "    >>> filter_by_substring([], 'a')\n",
      "    []\n",
      "    >>> filter_by_substring(['abc', 'bacd', 'cde', 'array'], 'a')\n",
      "    ['abc', 'bacd', 'array']\n",
      "    \"\"\"\n",
      "\n",
      "\n",
      "Let's think step by step.\n",
      "\n",
      "\n",
      "new:  Implement the python function given by this definition:\n",
      "\n",
      "from typing import List\n",
      "\n",
      "\n",
      "def filter_by_substring(strings: List[str], substring: str) -> List[str]:\n",
      "    \"\"\" Filter an input list of strings only for ones that contain given substring\n",
      "    >>> filter_by_substring([], 'a')\n",
      "    []\n",
      "    >>> filter_by_substring(['abc', 'bacd', 'cde', 'array'], 'a')\n",
      "    ['abc', 'bacd', 'array']\n",
      "    \"\"\"\n",
      "\n",
      "\n",
      "Let's think step by step.\n",
      " convert the input to a list of numbers before sorting them.\n"
     ]
    }
   ],
   "source": [
    "print('original: ', vicuna_failures[0][1])\n",
    "print()\n",
    "print('new: ', vicuna_failures[0][1] + ' convert the input to a list of numbers before sorting them.')"
   ]
  },
  {
   "cell_type": "code",
   "execution_count": 22,
   "metadata": {},
   "outputs": [
    {
     "name": "stdout",
     "output_type": "stream",
     "text": [
      "new results:  1.0 1.0\n",
      "old results:  0.5999999999999999 1.0\n"
     ]
    }
   ],
   "source": [
    "print(\"new results: \", results[0]['pass@1'], results[0]['pass@5'])\n",
    "print(\"old results: \", vicuna_failures[0][2], vicuna_failures[0][3])"
   ]
  },
  {
   "cell_type": "code",
   "execution_count": 19,
   "metadata": {},
   "outputs": [],
   "source": [
    "# second vicuna prompt\n",
    "results, candidates = ev.evaluate(\n",
    "    [vicuna_failures[1][-1]],\n",
    "    vicuna_failures[1][1] + ' Include necessary imports in the generated python code before the python function definition',\n",
    "    [1,5]\n",
    ")"
   ]
  },
  {
   "cell_type": "code",
   "execution_count": 26,
   "metadata": {},
   "outputs": [
    {
     "name": "stdout",
     "output_type": "stream",
     "text": [
      "original:  Implement the python function given by this definition:\n",
      "\n",
      "from typing import List, Tuple\n",
      "\n",
      "\n",
      "def rolling_max(numbers: List[int]) -> List[int]:\n",
      "    \"\"\" From a given list of integers, generate a list of rolling maximum element found until given moment\n",
      "    in the sequence.\n",
      "    >>> rolling_max([1, 2, 3, 2, 3, 4, 2])\n",
      "    [1, 2, 3, 3, 3, 4, 4]\n",
      "    \"\"\"\n",
      "\n",
      "\n",
      "Let's think step by step.\n",
      "\n",
      "\n",
      "new:  Implement the python function given by this definition:\n",
      "\n",
      "from typing import List, Tuple\n",
      "\n",
      "\n",
      "def rolling_max(numbers: List[int]) -> List[int]:\n",
      "    \"\"\" From a given list of integers, generate a list of rolling maximum element found until given moment\n",
      "    in the sequence.\n",
      "    >>> rolling_max([1, 2, 3, 2, 3, 4, 2])\n",
      "    [1, 2, 3, 3, 3, 4, 4]\n",
      "    \"\"\"\n",
      "\n",
      "\n",
      "Let's think step by step.\n",
      " convert the input to a list of numbers before sorting them.\n"
     ]
    }
   ],
   "source": [
    "print('original: ', vicuna_failures[1][1])\n",
    "print()\n",
    "print('new: ', vicuna_failures[1][1] + ' convert the input to a list of numbers before sorting them.')"
   ]
  },
  {
   "cell_type": "code",
   "execution_count": 20,
   "metadata": {},
   "outputs": [
    {
     "name": "stdout",
     "output_type": "stream",
     "text": [
      "new results:  1.0 1.0\n",
      "old results:  0.8 1.0\n"
     ]
    }
   ],
   "source": [
    "print(\"new results: \", results[0]['pass@1'], results[0]['pass@5'])\n",
    "print(\"old results: \", vicuna_failures[1][2], vicuna_failures[1][3])"
   ]
  }
 ],
 "metadata": {
  "accelerator": "GPU",
  "colab": {
   "gpuType": "T4",
   "provenance": []
  },
  "kernelspec": {
   "display_name": "Python 3 (ipykernel)",
   "language": "python",
   "name": "python3"
  },
  "language_info": {
   "codemirror_mode": {
    "name": "ipython",
    "version": 3
   },
   "file_extension": ".py",
   "mimetype": "text/x-python",
   "name": "python",
   "nbconvert_exporter": "python",
   "pygments_lexer": "ipython3",
   "version": "3.13.7"
  }
 },
 "nbformat": 4,
 "nbformat_minor": 4
}
